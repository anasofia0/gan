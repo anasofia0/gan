{
 "cells": [
  {
   "cell_type": "code",
   "execution_count": 1,
   "id": "a4d2ee14-191b-482c-ba75-0a30af46ec45",
   "metadata": {},
   "outputs": [],
   "source": [
    "import torch\n",
    "import torch.nn as nn\n",
    "import torch.optim as optim\n",
    "from torchvision import datasets, transforms\n",
    "from torch.utils.data import DataLoader\n",
    "import matplotlib.pyplot as plt\n",
    "import numpy as np"
   ]
  },
  {
   "cell_type": "code",
   "execution_count": 2,
   "id": "abc1af5a-890f-4835-ad13-3f5b5f366cf3",
   "metadata": {},
   "outputs": [],
   "source": [
    "#device = torch.device(\"cuda\" if torch.cuda.is_available() else \"cpu\")\n",
    "device = torch.device(\"cpu\")\n",
    "image_channels = 100\n",
    "batch_size = 8\n",
    "epochs = 50\n",
    "learning_rate = 0.0002"
   ]
  },
  {
   "cell_type": "code",
   "execution_count": 3,
   "id": "a4728484-b551-4ea8-84bd-b96bebbc6947",
   "metadata": {},
   "outputs": [],
   "source": [
    "transform = transforms.Compose([\n",
    "    transforms.ToTensor(),\n",
    "    transforms.Normalize((0.5,), (0.5,))\n",
    "])"
   ]
  },
  {
   "cell_type": "code",
   "execution_count": 4,
   "id": "454404ed-d265-4da6-a619-d7b795ce2e39",
   "metadata": {},
   "outputs": [],
   "source": [
    "train_dataset = datasets.MNIST(root='./data', train=True, download=True, transform=transform)\n",
    "train_loader = DataLoader(train_dataset, batch_size=batch_size, shuffle=True)"
   ]
  },
  {
   "cell_type": "code",
   "execution_count": 5,
   "id": "4f46a1a9-96a1-4027-8c01-470d0f08f207",
   "metadata": {},
   "outputs": [],
   "source": [
    "# Modelo Gerador\n",
    "class Generator(nn.Module):\n",
    "    def __init__(self, image_channels):\n",
    "        super(Generator, self).__init__()\n",
    "        self.model = nn.Sequential(\n",
    "            nn.Linear(image_channels, 256),\n",
    "            nn.ReLU(0.2),\n",
    "            nn.Linear(256, 512),\n",
    "            nn.ReLU(0.2),\n",
    "            nn.Linear(512, 1024),\n",
    "            nn.ReLU(0.2),\n",
    "            nn.Linear(1024, 784),\n",
    "            nn.Tanh()\n",
    "        )\n",
    "    \n",
    "    def forward(self, z):\n",
    "        img = self.model(z)\n",
    "        return img\n",
    "\n",
    "# Modelo\n",
    "class Discriminator(nn.Module):\n",
    "    def __init__(self):\n",
    "        super(Discriminator, self).__init__()\n",
    "        self.model = nn.Sequential(\n",
    "            nn.Linear(784, 512),\n",
    "            nn.ReLU(0.2),\n",
    "            nn.Linear(512, 256),\n",
    "            nn.ReLU(0.2),\n",
    "            nn.Linear(256, 1),\n",
    "            nn.Sigmoid()\n",
    "        )\n",
    "    \n",
    "    def forward(self, img):\n",
    "        img = img.view(img.size(0), -1)\n",
    "        x = self.model(img)\n",
    "        return x"
   ]
  },
  {
   "cell_type": "code",
   "execution_count": 6,
   "id": "7e5c21f5-3a93-468e-9ea7-0ab9a5185ba4",
   "metadata": {},
   "outputs": [
    {
     "name": "stdout",
     "output_type": "stream",
     "text": [
      "cpu\n"
     ]
    }
   ],
   "source": [
    "print(device)"
   ]
  },
  {
   "cell_type": "code",
   "execution_count": 7,
   "id": "e174dee5-b6e2-435c-8ff0-9f576510f0fd",
   "metadata": {},
   "outputs": [
    {
     "name": "stdout",
     "output_type": "stream",
     "text": [
      "Generator(\n",
      "  (model): Sequential(\n",
      "    (0): Linear(in_features=100, out_features=256, bias=True)\n",
      "    (1): ReLU(inplace=True)\n",
      "    (2): Linear(in_features=256, out_features=512, bias=True)\n",
      "    (3): ReLU(inplace=True)\n",
      "    (4): Linear(in_features=512, out_features=1024, bias=True)\n",
      "    (5): ReLU(inplace=True)\n",
      "    (6): Linear(in_features=1024, out_features=784, bias=True)\n",
      "    (7): Tanh()\n",
      "  )\n",
      ")\n",
      "Discriminator(\n",
      "  (model): Sequential(\n",
      "    (0): Linear(in_features=784, out_features=512, bias=True)\n",
      "    (1): ReLU(inplace=True)\n",
      "    (2): Linear(in_features=512, out_features=256, bias=True)\n",
      "    (3): ReLU(inplace=True)\n",
      "    (4): Linear(in_features=256, out_features=1, bias=True)\n",
      "    (5): Sigmoid()\n",
      "  )\n",
      ")\n"
     ]
    }
   ],
   "source": [
    "generator = Generator(image_channels).to(device)\n",
    "discriminator = Discriminator().to(device)\n",
    "print(generator)\n",
    "print(discriminator)"
   ]
  },
  {
   "cell_type": "code",
   "execution_count": 8,
   "id": "2259d964-94b7-45bf-8e71-0c9dec0302cd",
   "metadata": {},
   "outputs": [],
   "source": [
    "adversarial_loss = nn.BCELoss()\n",
    "optimizer_g = optim.Adam(generator.parameters(), lr=learning_rate)\n",
    "optimizer_d = optim.Adam(discriminator.parameters(), lr=learning_rate)"
   ]
  },
  {
   "cell_type": "code",
   "execution_count": null,
   "id": "59fad923-23d3-4442-a1e9-5ec9125789fc",
   "metadata": {},
   "outputs": [
    {
     "name": "stdout",
     "output_type": "stream",
     "text": [
      "[Epoch 0/50] [Batch 7500/7500]\n",
      "[D loss: 0.6627] [G loss: 2.2826]\n",
      "(16, 784)\n",
      "[Epoch 1/50] [Batch 7500/7500]\n",
      "[D loss: 0.7798] [G loss: 2.0541]\n",
      "[Epoch 2/50] [Batch 7500/7500]\n",
      "[D loss: 0.8373] [G loss: 1.7418]\n"
     ]
    }
   ],
   "source": [
    "history_loss_g = []\n",
    "history_loss_d = []\n",
    "for epoch in range(epochs):\n",
    "    loss_g = 0\n",
    "    loss_d = 0\n",
    "    for i, (real_imgs, _) in enumerate(train_loader):\n",
    "        real_imgs = real_imgs.to(device)\n",
    "        optimizer_d.zero_grad()\n",
    "\n",
    "        ### treinando o discrimiative (achar nome em português)\n",
    "\n",
    "        # treinando em imagens verdadeiras\n",
    "        real_labels = torch.ones(real_imgs.size(0), 1).to(device)\n",
    "        real_output = discriminator(real_imgs)\n",
    "        real_loss = adversarial_loss(real_output, real_labels)\n",
    "        real_loss.backward()\n",
    "        # optimizer_d.step()\n",
    "        \n",
    "        # treinando em imagens falsas\n",
    "        noise = torch.randn(real_imgs.size(0), image_channels).to(device)\n",
    "        fake_imgs = generator(noise) # gerando imagens falsas\n",
    "        fake_labels = torch.zeros(real_imgs.size(0), 1).to(device)\n",
    "        fake_output = discriminator(fake_imgs.detach())\n",
    "        fake_loss = adversarial_loss(fake_output, fake_labels)\n",
    "        fake_loss.backward()\n",
    "        optimizer_d.step()\n",
    "\n",
    "        loss_d += real_loss + fake_loss\n",
    "        \n",
    "        ### treinando o gerador\n",
    "        optimizer_g.zero_grad()\n",
    "        fake_imgs = generator(noise)\n",
    "        output_g = discriminator(fake_imgs)\n",
    "        loss = adversarial_loss(output_g, real_labels)\n",
    "        loss.backward()\n",
    "        optimizer_g.step()\n",
    "        loss_g += loss\n",
    "                \n",
    "    # printando metricas\n",
    "    loss_g /= i\n",
    "    loss_d /= i\n",
    "    history_loss_d.append(loss_d)\n",
    "    history_loss_g.append(loss_g)\n",
    "    print(f\"[Epoch {epoch}/{epochs}]\")\n",
    "    print(f\"[D loss: {loss_d.item():.4f}] [G loss: {loss_g.item():.4f}]\")\n",
    "    \n",
    "    # Save some generated images at the end of each epoch\n",
    "    if (epoch+1) % 10 == 0:\n",
    "        with torch.no_grad():\n",
    "            sample_noise = torch.randn(16, image_channels).to(device)\n",
    "            gen_img = generator(sample_noise).cpu().numpy()\n",
    "            gen_img = gen_img.reshape(-1, 28, 28)\n",
    "            \n",
    "            fig, axs = plt.subplots(4, 4, figsize=(4, 4))\n",
    "            cnt = 0\n",
    "            for i in range(4):\n",
    "                for j in range(4):\n",
    "                    axs[i,j].imshow(gen_img[cnt], cmap='gray')\n",
    "                    axs[i,j].axis('off')\n",
    "                    cnt += 1\n",
    "            plt.savefig(f\"gan_images/epoch_{epoch}.png\")\n",
    "            plt.close()\n",
    "\n",
    "# Save models\n",
    "torch.save(generator.state_dict(), './models/generator.pth')\n",
    "torch.save(discriminator.state_dict(), './models/discriminator.pth')"
   ]
  },
  {
   "cell_type": "code",
   "execution_count": null,
   "id": "50e9ac1d-af82-4c86-899d-b1a495cb3423",
   "metadata": {},
   "outputs": [],
   "source": []
  }
 ],
 "metadata": {
  "kernelspec": {
   "display_name": "gan",
   "language": "python",
   "name": "gan"
  },
  "language_info": {
   "codemirror_mode": {
    "name": "ipython",
    "version": 3
   },
   "file_extension": ".py",
   "mimetype": "text/x-python",
   "name": "python",
   "nbconvert_exporter": "python",
   "pygments_lexer": "ipython3",
   "version": "3.12.3"
  }
 },
 "nbformat": 4,
 "nbformat_minor": 5
}
