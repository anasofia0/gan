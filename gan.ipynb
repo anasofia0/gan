{
 "cells": [
  {
   "cell_type": "code",
   "execution_count": 10,
   "id": "a4d2ee14-191b-482c-ba75-0a30af46ec45",
   "metadata": {
    "executionInfo": {
     "elapsed": 65,
     "status": "ok",
     "timestamp": 1750666826966,
     "user": {
      "displayName": "Ana Sofia Schweizer Silvestre",
      "userId": "15508099689765161671"
     },
     "user_tz": 180
    },
    "id": "a4d2ee14-191b-482c-ba75-0a30af46ec45"
   },
   "outputs": [],
   "source": [
    "import torch\n",
    "import torch.nn as nn\n",
    "import torch.optim as optim\n",
    "from torchvision import datasets, transforms\n",
    "from torch.utils.data import DataLoader\n",
    "import matplotlib.pyplot as plt\n",
    "import numpy as np"
   ]
  },
  {
   "cell_type": "markdown",
   "id": "2kPI1zRm3G_A",
   "metadata": {
    "id": "2kPI1zRm3G_A"
   },
   "source": [
    "# Redes Generativas Adversariais (GANs)\n",
    "\n",
    "As **Redes Generativas Adversariais (GANs - *Generative Adversarial Networks*)** são um framework de aprendizado de máquina proposto por Ian Goodfellow em 2014. Elas consistem em dois modelos neurais em competição:\n",
    "\n",
    "1. **Gerador (*Generator*)**  \n",
    "   - Gera dados sintéticos a partir de uma distribuição de entrada, no nosso caso, são ruídos aleatórios.  \n",
    "   - Objetivo: \"enganar\" o discriminador, produzindo amostras indistinguíveis de dados reais.\n",
    "\n",
    "2. **Discriminador (*Discriminator*)**  \n",
    "   - Classifica se uma amostra é real ou falsa, ou seja, classifica se a imagem vem do conjunto de dados original ou se foi produzida pelo gerador.  \n",
    "   - Objetivo: identificar corretamente as amostras falsas.  \n",
    "\n",
    "![gan.png](data:image/png;base64,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)\n",
    "\n",
    "## Funcionamento  \n",
    "Os dois modelos são treinados simultaneamente em um **jogo minimax**:  \n",
    "- O gerador melhora gradativamente sua capacidade de gerar dados realistas.  \n",
    "- O discriminador aprimora sua habilidade de detectar falsificações.  \n",
    "\n",
    "Em uma situação perfeita, o gerador produz dados de alta qualidade, e o discriminador não consegue distinguir entre real e sintético, então a taxa de acerto fica em 50%.  \n",
    "\n",
    "## Aplicações Comuns  \n",
    "- Geração de imagens realistas\n",
    "- Super-resolução de imagens\n",
    "- Tradução de estilos\n",
    "- Preenchimento de dados faltantes\n",
    "\n",
    "## Desafios  \n",
    "- **Modo colapso**: Gerador produz pouca variedade de saídas.  \n",
    "- **Dificuldade de treino**: Requer balanceamento entre os modelos.  \n",
    "\n",
    "As GANs revolucionaram a geração de dados sintéticos.  "
   ]
  },
  {
   "cell_type": "markdown",
   "id": "1bR1VpZR7eJi",
   "metadata": {
    "id": "1bR1VpZR7eJi"
   },
   "source": [
    "## Implementado o modelo\n",
    "\n",
    "### Configuração de ambiente"
   ]
  },
  {
   "cell_type": "code",
   "execution_count": 11,
   "id": "abc1af5a-890f-4835-ad13-3f5b5f366cf3",
   "metadata": {
    "executionInfo": {
     "elapsed": 36,
     "status": "ok",
     "timestamp": 1750666826984,
     "user": {
      "displayName": "Ana Sofia Schweizer Silvestre",
      "userId": "15508099689765161671"
     },
     "user_tz": 180
    },
    "id": "abc1af5a-890f-4835-ad13-3f5b5f366cf3"
   },
   "outputs": [],
   "source": [
    "device = torch.device(\"cuda\" if torch.cuda.is_available() else \"cpu\")\n",
    "#device = torch.device(\"cpu\")\n",
    "image_channels = 100\n",
    "batch_size = 16\n",
    "epochs = 50\n",
    "learning_rate = 0.0002"
   ]
  },
  {
   "cell_type": "markdown",
   "id": "vGoxXrFm7sEB",
   "metadata": {
    "id": "vGoxXrFm7sEB"
   },
   "source": [
    "### Importando as imagens"
   ]
  },
  {
   "cell_type": "code",
   "execution_count": 12,
   "id": "a4728484-b551-4ea8-84bd-b96bebbc6947",
   "metadata": {
    "executionInfo": {
     "elapsed": 27,
     "status": "ok",
     "timestamp": 1750666826991,
     "user": {
      "displayName": "Ana Sofia Schweizer Silvestre",
      "userId": "15508099689765161671"
     },
     "user_tz": 180
    },
    "id": "a4728484-b551-4ea8-84bd-b96bebbc6947"
   },
   "outputs": [],
   "source": [
    "# tranformações que serão aplicadas a todos os dados\n",
    "transform = transforms.Compose([\n",
    "    transforms.ToTensor(),\n",
    "    transforms.Normalize((0.5,), (0.5,))\n",
    "])"
   ]
  },
  {
   "cell_type": "code",
   "execution_count": 13,
   "id": "454404ed-d265-4da6-a619-d7b795ce2e39",
   "metadata": {
    "executionInfo": {
     "elapsed": 51,
     "status": "ok",
     "timestamp": 1750666827046,
     "user": {
      "displayName": "Ana Sofia Schweizer Silvestre",
      "userId": "15508099689765161671"
     },
     "user_tz": 180
    },
    "id": "454404ed-d265-4da6-a619-d7b795ce2e39"
   },
   "outputs": [],
   "source": [
    "# baixando os dados (dataset de numeros escritos a mao)\n",
    "train_dataset = datasets.MNIST(root='./data', train=True, download=True, transform=transform)\n",
    "train_loader = DataLoader(train_dataset, batch_size=batch_size, shuffle=True)"
   ]
  },
  {
   "cell_type": "markdown",
   "id": "s7UeOm8H8Sis",
   "metadata": {
    "id": "s7UeOm8H8Sis"
   },
   "source": [
    "### Definindo o modelo"
   ]
  },
  {
   "cell_type": "code",
   "execution_count": 14,
   "id": "4f46a1a9-96a1-4027-8c01-470d0f08f207",
   "metadata": {
    "executionInfo": {
     "elapsed": 50,
     "status": "ok",
     "timestamp": 1750666827100,
     "user": {
      "displayName": "Ana Sofia Schweizer Silvestre",
      "userId": "15508099689765161671"
     },
     "user_tz": 180
    },
    "id": "4f46a1a9-96a1-4027-8c01-470d0f08f207"
   },
   "outputs": [],
   "source": [
    "# Modelo Gerador\n",
    "class Generator(nn.Module):\n",
    "    def __init__(self, image_channels):\n",
    "        super(Generator, self).__init__()\n",
    "        self.model = nn.Sequential(\n",
    "            nn.Linear(image_channels, 256),\n",
    "            nn.ReLU(0.2),\n",
    "            nn.Linear(256, 512),\n",
    "            nn.ReLU(0.2),\n",
    "            nn.Linear(512, 1024),\n",
    "            nn.ReLU(0.2),\n",
    "            nn.Linear(1024, 784),\n",
    "            nn.Tanh()\n",
    "        )\n",
    "\n",
    "    def forward(self, z):\n",
    "        img = self.model(z)\n",
    "        return img\n",
    "\n",
    "# Modelo Discrimidador\n",
    "class Discriminator(nn.Module):\n",
    "    def __init__(self):\n",
    "        super(Discriminator, self).__init__()\n",
    "        self.model = nn.Sequential(\n",
    "            nn.Linear(784, 512),\n",
    "            nn.ReLU(0.2),\n",
    "            nn.Linear(512, 256),\n",
    "            nn.ReLU(0.2),\n",
    "            nn.Linear(256, 1),\n",
    "            nn.Sigmoid()\n",
    "        )\n",
    "\n",
    "    def forward(self, img):\n",
    "        img = img.view(img.size(0), -1)\n",
    "        x = self.model(img)\n",
    "        return x"
   ]
  },
  {
   "cell_type": "code",
   "execution_count": 15,
   "id": "7e5c21f5-3a93-468e-9ea7-0ab9a5185ba4",
   "metadata": {
    "colab": {
     "base_uri": "https://localhost:8080/"
    },
    "executionInfo": {
     "elapsed": 55,
     "status": "ok",
     "timestamp": 1750666827119,
     "user": {
      "displayName": "Ana Sofia Schweizer Silvestre",
      "userId": "15508099689765161671"
     },
     "user_tz": 180
    },
    "id": "7e5c21f5-3a93-468e-9ea7-0ab9a5185ba4",
    "outputId": "6291e4eb-bb2f-4f3d-aa07-86b193a30b57"
   },
   "outputs": [
    {
     "name": "stdout",
     "output_type": "stream",
     "text": [
      "cuda\n"
     ]
    }
   ],
   "source": [
    "print(device)"
   ]
  },
  {
   "cell_type": "code",
   "execution_count": 16,
   "id": "e174dee5-b6e2-435c-8ff0-9f576510f0fd",
   "metadata": {
    "colab": {
     "base_uri": "https://localhost:8080/"
    },
    "executionInfo": {
     "elapsed": 41,
     "status": "ok",
     "timestamp": 1750666827131,
     "user": {
      "displayName": "Ana Sofia Schweizer Silvestre",
      "userId": "15508099689765161671"
     },
     "user_tz": 180
    },
    "id": "e174dee5-b6e2-435c-8ff0-9f576510f0fd",
    "outputId": "4e9f63b8-3f61-419e-f340-89d5dede50ef"
   },
   "outputs": [
    {
     "name": "stdout",
     "output_type": "stream",
     "text": [
      "Generator(\n",
      "  (model): Sequential(\n",
      "    (0): Linear(in_features=100, out_features=256, bias=True)\n",
      "    (1): ReLU(inplace=True)\n",
      "    (2): Linear(in_features=256, out_features=512, bias=True)\n",
      "    (3): ReLU(inplace=True)\n",
      "    (4): Linear(in_features=512, out_features=1024, bias=True)\n",
      "    (5): ReLU(inplace=True)\n",
      "    (6): Linear(in_features=1024, out_features=784, bias=True)\n",
      "    (7): Tanh()\n",
      "  )\n",
      ")\n",
      "Discriminator(\n",
      "  (model): Sequential(\n",
      "    (0): Linear(in_features=784, out_features=512, bias=True)\n",
      "    (1): ReLU(inplace=True)\n",
      "    (2): Linear(in_features=512, out_features=256, bias=True)\n",
      "    (3): ReLU(inplace=True)\n",
      "    (4): Linear(in_features=256, out_features=1, bias=True)\n",
      "    (5): Sigmoid()\n",
      "  )\n",
      ")\n"
     ]
    }
   ],
   "source": [
    "# instanciando os modelos\n",
    "generator = Generator(image_channels).to(device)\n",
    "discriminator = Discriminator().to(device)\n",
    "print(generator)\n",
    "print(discriminator)"
   ]
  },
  {
   "cell_type": "markdown",
   "id": "dMNkCGLT8YRw",
   "metadata": {
    "id": "dMNkCGLT8YRw"
   },
   "source": [
    "### Treinando"
   ]
  },
  {
   "cell_type": "code",
   "execution_count": 17,
   "id": "2259d964-94b7-45bf-8e71-0c9dec0302cd",
   "metadata": {
    "executionInfo": {
     "elapsed": 37,
     "status": "ok",
     "timestamp": 1750666827135,
     "user": {
      "displayName": "Ana Sofia Schweizer Silvestre",
      "userId": "15508099689765161671"
     },
     "user_tz": 180
    },
    "id": "2259d964-94b7-45bf-8e71-0c9dec0302cd"
   },
   "outputs": [],
   "source": [
    "# definindo a funcao de loss e os otimizadores\n",
    "adversarial_loss = nn.BCELoss()\n",
    "optimizer_g = optim.Adam(generator.parameters(), lr=learning_rate)\n",
    "optimizer_d = optim.Adam(discriminator.parameters(), lr=learning_rate)"
   ]
  },
  {
   "cell_type": "code",
   "execution_count": 18,
   "id": "59fad923-23d3-4442-a1e9-5ec9125789fc",
   "metadata": {
    "colab": {
     "base_uri": "https://localhost:8080/"
    },
    "executionInfo": {
     "elapsed": 1614552,
     "status": "ok",
     "timestamp": 1750668441702,
     "user": {
      "displayName": "Ana Sofia Schweizer Silvestre",
      "userId": "15508099689765161671"
     },
     "user_tz": 180
    },
    "id": "59fad923-23d3-4442-a1e9-5ec9125789fc",
    "outputId": "30f4260f-da70-4ac5-941e-7199ef3d4571"
   },
   "outputs": [
    {
     "name": "stdout",
     "output_type": "stream",
     "text": [
      "[Epoch 0/50]\n",
      "[D loss: 0.6843] [G loss: 3.0392]\n",
      "[Epoch 1/50]\n",
      "[D loss: 0.6481] [G loss: 2.7660]\n",
      "[Epoch 2/50]\n",
      "[D loss: 0.6494] [G loss: 2.4121]\n",
      "[Epoch 3/50]\n",
      "[D loss: 0.5865] [G loss: 2.7791]\n",
      "[Epoch 4/50]\n",
      "[D loss: 0.5913] [G loss: 2.5136]\n",
      "[Epoch 5/50]\n",
      "[D loss: 0.6719] [G loss: 2.1762]\n",
      "[Epoch 6/50]\n",
      "[D loss: 0.7838] [G loss: 1.8695]\n",
      "[Epoch 7/50]\n",
      "[D loss: 0.8313] [G loss: 1.7270]\n",
      "[Epoch 8/50]\n",
      "[D loss: 0.9088] [G loss: 1.5494]\n",
      "[Epoch 9/50]\n",
      "[D loss: 0.9576] [G loss: 1.4409]\n",
      "[Epoch 10/50]\n",
      "[D loss: 1.0194] [G loss: 1.3293]\n",
      "[Epoch 11/50]\n",
      "[D loss: 1.0496] [G loss: 1.2702]\n",
      "[Epoch 12/50]\n",
      "[D loss: 1.0744] [G loss: 1.2202]\n",
      "[Epoch 13/50]\n",
      "[D loss: 1.1000] [G loss: 1.1667]\n",
      "[Epoch 14/50]\n",
      "[D loss: 1.1287] [G loss: 1.1237]\n",
      "[Epoch 15/50]\n",
      "[D loss: 1.1489] [G loss: 1.0906]\n",
      "[Epoch 16/50]\n",
      "[D loss: 1.1499] [G loss: 1.0835]\n",
      "[Epoch 17/50]\n",
      "[D loss: 1.1529] [G loss: 1.0786]\n",
      "[Epoch 18/50]\n",
      "[D loss: 1.1689] [G loss: 1.0515]\n",
      "[Epoch 19/50]\n",
      "[D loss: 1.1732] [G loss: 1.0413]\n",
      "[Epoch 20/50]\n",
      "[D loss: 1.1878] [G loss: 1.0251]\n",
      "[Epoch 21/50]\n",
      "[D loss: 1.1932] [G loss: 1.0181]\n",
      "[Epoch 22/50]\n",
      "[D loss: 1.1992] [G loss: 1.0040]\n",
      "[Epoch 23/50]\n",
      "[D loss: 1.2020] [G loss: 1.0044]\n",
      "[Epoch 24/50]\n",
      "[D loss: 1.2078] [G loss: 0.9954]\n",
      "[Epoch 25/50]\n",
      "[D loss: 1.2076] [G loss: 0.9956]\n",
      "[Epoch 26/50]\n",
      "[D loss: 1.2132] [G loss: 0.9848]\n",
      "[Epoch 27/50]\n",
      "[D loss: 1.2165] [G loss: 0.9754]\n",
      "[Epoch 28/50]\n",
      "[D loss: 1.2196] [G loss: 0.9728]\n",
      "[Epoch 29/50]\n",
      "[D loss: 1.2205] [G loss: 0.9683]\n",
      "[Epoch 30/50]\n",
      "[D loss: 1.2259] [G loss: 0.9591]\n",
      "[Epoch 31/50]\n",
      "[D loss: 1.2293] [G loss: 0.9536]\n",
      "[Epoch 32/50]\n",
      "[D loss: 1.2256] [G loss: 0.9558]\n",
      "[Epoch 33/50]\n",
      "[D loss: 1.2298] [G loss: 0.9505]\n",
      "[Epoch 34/50]\n",
      "[D loss: 1.2303] [G loss: 0.9476]\n",
      "[Epoch 35/50]\n",
      "[D loss: 1.2316] [G loss: 0.9444]\n",
      "[Epoch 36/50]\n",
      "[D loss: 1.2288] [G loss: 0.9501]\n",
      "[Epoch 37/50]\n",
      "[D loss: 1.2270] [G loss: 0.9515]\n",
      "[Epoch 38/50]\n",
      "[D loss: 1.2284] [G loss: 0.9522]\n",
      "[Epoch 39/50]\n",
      "[D loss: 1.2335] [G loss: 0.9363]\n",
      "[Epoch 40/50]\n",
      "[D loss: 1.2289] [G loss: 0.9474]\n",
      "[Epoch 41/50]\n",
      "[D loss: 1.2353] [G loss: 0.9386]\n",
      "[Epoch 42/50]\n",
      "[D loss: 1.2330] [G loss: 0.9369]\n",
      "[Epoch 43/50]\n",
      "[D loss: 1.2339] [G loss: 0.9371]\n",
      "[Epoch 44/50]\n",
      "[D loss: 1.2305] [G loss: 0.9409]\n",
      "[Epoch 45/50]\n",
      "[D loss: 1.2324] [G loss: 0.9391]\n",
      "[Epoch 46/50]\n",
      "[D loss: 1.2314] [G loss: 0.9401]\n",
      "[Epoch 47/50]\n",
      "[D loss: 1.2248] [G loss: 0.9463]\n",
      "[Epoch 48/50]\n",
      "[D loss: 1.2282] [G loss: 0.9442]\n",
      "[Epoch 49/50]\n",
      "[D loss: 1.2329] [G loss: 0.9406]\n"
     ]
    }
   ],
   "source": [
    "history_loss_g = []\n",
    "history_loss_d = []\n",
    "for epoch in range(epochs):\n",
    "    loss_g = 0\n",
    "    loss_d = 0\n",
    "    for i, (real_imgs, _) in enumerate(train_loader):\n",
    "        real_imgs = real_imgs.to(device)\n",
    "        optimizer_d.zero_grad()\n",
    "\n",
    "        ### treinando o discriminador\n",
    "\n",
    "        # treinando em imagens verdadeiras\n",
    "        real_labels = torch.ones(real_imgs.size(0), 1).to(device)\n",
    "        real_output = discriminator(real_imgs)\n",
    "        real_loss = adversarial_loss(real_output, real_labels)\n",
    "        real_loss.backward()\n",
    "        # optimizer_d.step()\n",
    "\n",
    "        # treinando em imagens falsas\n",
    "        noise = torch.randn(real_imgs.size(0), image_channels).to(device)\n",
    "        fake_imgs = generator(noise) # gerando imagens falsas\n",
    "        fake_labels = torch.zeros(real_imgs.size(0), 1).to(device)\n",
    "        fake_output = discriminator(fake_imgs.detach())\n",
    "        fake_loss = adversarial_loss(fake_output, fake_labels)\n",
    "        fake_loss.backward()\n",
    "        optimizer_d.step()\n",
    "\n",
    "        loss_d += real_loss + fake_loss\n",
    "\n",
    "        ### treinando o gerador\n",
    "        optimizer_g.zero_grad()\n",
    "        fake_imgs = generator(noise)\n",
    "        output_g = discriminator(fake_imgs)\n",
    "        loss = adversarial_loss(output_g, real_labels)\n",
    "        loss.backward()\n",
    "        optimizer_g.step()\n",
    "        loss_g += loss\n",
    "\n",
    "    # printando metricas\n",
    "    loss_g /= i\n",
    "    loss_d /= i\n",
    "    history_loss_d.append(loss_d)\n",
    "    history_loss_g.append(loss_g)\n",
    "    print(f\"[Epoch {epoch}/{epochs}]\")\n",
    "    print(f\"[D loss: {loss_d.item():.4f}] [G loss: {loss_g.item():.4f}]\")\n",
    "\n",
    "    # salvando imagens geradas\n",
    "    if (epoch+1) % 10 == 0:\n",
    "        with torch.no_grad():\n",
    "            sample_noise = torch.randn(16, image_channels).to(device)\n",
    "            gen_img = generator(sample_noise).cpu().numpy()\n",
    "            gen_img = gen_img.reshape(-1, 28, 28)\n",
    "\n",
    "            fig, axs = plt.subplots(4, 4, figsize=(4, 4))\n",
    "            cnt = 0\n",
    "            for i in range(4):\n",
    "                for j in range(4):\n",
    "                    axs[i,j].imshow(gen_img[cnt], cmap='gray')\n",
    "                    axs[i,j].axis('off')\n",
    "                    cnt += 1\n",
    "            plt.savefig(f\"gan_images/epoch_{epoch}.png\")\n",
    "            plt.close()\n",
    "\n",
    "torch.save(generator.state_dict(), './models/generator.pth')\n",
    "torch.save(discriminator.state_dict(), './models/discriminator.pth')"
   ]
  },
  {
   "cell_type": "code",
   "execution_count": 26,
   "id": "50e9ac1d-af82-4c86-899d-b1a495cb3423",
   "metadata": {
    "colab": {
     "base_uri": "https://localhost:8080/",
     "height": 487
    },
    "executionInfo": {
     "elapsed": 239,
     "status": "ok",
     "timestamp": 1750668696755,
     "user": {
      "displayName": "Ana Sofia Schweizer Silvestre",
      "userId": "15508099689765161671"
     },
     "user_tz": 180
    },
    "id": "50e9ac1d-af82-4c86-899d-b1a495cb3423",
    "outputId": "e54848e2-0d4b-42db-8ba0-1c6ec086cc8b"
   },
   "outputs": [
    {
     "data": {
      "image/png": "[encoded data removed]",
      "text/plain": [
       "<Figure size 1000x600 with 1 Axes>"
      ]
     },
     "metadata": {},
     "output_type": "display_data"
    }
   ],
   "source": [
    "history_loss_d = [i.detach().cpu().numpy() for i in history_loss_d]\n",
    "history_loss_g = [i.detach().cpu().numpy() for i in history_loss_g]\n",
    "\n",
    "# plotando a loss de treinamento\n",
    "plt.figure(figsize=(10, 6))\n",
    "plt.plot(history_loss_g, label='Generator Loss')\n",
    "plt.plot(history_loss_d, label='Discriminator Loss')\n",
    "plt.xlabel('Epoch')\n",
    "plt.ylabel('Loss')\n",
    "plt.title('GAN Training Loss')\n",
    "plt.legend()\n",
    "plt.grid(True)\n",
    "plt.show()"
   ]
  },
  {
   "cell_type": "code",
   "execution_count": 27,
   "id": "7F8TOJEp2uqE",
   "metadata": {
    "colab": {
     "base_uri": "https://localhost:8080/",
     "height": 559
    },
    "executionInfo": {
     "elapsed": 109,
     "status": "ok",
     "timestamp": 1750668735106,
     "user": {
      "displayName": "Ana Sofia Schweizer Silvestre",
      "userId": "15508099689765161671"
     },
     "user_tz": 180
    },
    "id": "7F8TOJEp2uqE",
    "outputId": "ea136124-7a74-410d-e86c-406a69de0f77"
   },
   "outputs": [
    {
     "data": {
      "image/png": "[encoded data removed]",
      "text/plain": [
       "<Figure size 600x600 with 16 Axes>"
      ]
     },
     "metadata": {},
     "output_type": "display_data"
    }
   ],
   "source": [
    "sample_noise = torch.randn(16, image_channels).to(device)\n",
    "generator.eval()  # Colocar o gerador em modo de avaliação\n",
    "with torch.no_grad():\n",
    "    generated_images = generator(sample_noise).cpu().numpy()\n",
    "\n",
    "# Remodelar as imagens geradas para 28x28\n",
    "generated_images = generated_images.reshape(-1, 28, 28)\n",
    "\n",
    "# Plotar as imagens\n",
    "fig, axes = plt.subplots(4, 4, figsize=(6, 6))\n",
    "for i, ax in enumerate(axes.flat):\n",
    "    ax.imshow(generated_images[i], cmap='gray')\n",
    "    ax.axis('off')\n",
    "\n",
    "plt.suptitle('Sample of Generated Images')\n",
    "plt.show()"
   ]
  }
 ],
 "metadata": {
  "accelerator": "GPU",
  "colab": {
   "gpuType": "T4",
   "provenance": []
  },
  "kernelspec": {
   "display_name": "gan",
   "language": "python",
   "name": "gan"
  },
  "language_info": {
   "codemirror_mode": {
    "name": "ipython",
    "version": 3
   },
   "file_extension": ".py",
   "mimetype": "text/x-python",
   "name": "python",
   "nbconvert_exporter": "python",
   "pygments_lexer": "ipython3",
   "version": "3.12.3"
  }
 },
 "nbformat": 4,
 "nbformat_minor": 5
}
